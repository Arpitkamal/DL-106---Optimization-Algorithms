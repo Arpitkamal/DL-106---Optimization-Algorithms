{
  "nbformat": 4,
  "nbformat_minor": 0,
  "metadata": {
    "colab": {
      "name": "GDAlgorithms.ipynb",
      "provenance": [],
      "authorship_tag": "ABX9TyPDlPW2f8hGeHsreD9mnqm3",
      "include_colab_link": true
    },
    "kernelspec": {
      "name": "python3",
      "display_name": "Python 3"
    }
  },
  "cells": [
    {
      "cell_type": "markdown",
      "metadata": {
        "id": "view-in-github",
        "colab_type": "text"
      },
      "source": [
        "<a href=\"https://colab.research.google.com/github/Arpitkamal/DL-106---Optimization-Algorithms/blob/master/GDAlgorithms.ipynb\" target=\"_parent\"><img src=\"https://colab.research.google.com/assets/colab-badge.svg\" alt=\"Open In Colab\"/></a>"
      ]
    },
    {
      "cell_type": "markdown",
      "metadata": {
        "id": "3ic35DUemFjV",
        "colab_type": "text"
      },
      "source": [
        "Outline\n",
        "\n",
        "\n",
        "1.   Modified SN class\n",
        "2.   Overall setup- What is the data, model, task\n",
        "3.   plotting function - 3d, contour\n",
        "4.   Individual algorithms and how they perform\n",
        "5.   Exercise\n",
        "\n"
      ]
    },
    {
      "cell_type": "code",
      "metadata": {
        "id": "WMrTl_IYl94g",
        "colab_type": "code",
        "colab": {}
      },
      "source": [
        "from mpl_toolkits.mplot3d import Axes3D\n",
        "from matplotlib import cm\n",
        "\n",
        "import matplotlib.pyplot as plt\n",
        "import matplotlib.colors\n",
        "\n",
        "from matplotlib import animation, rc\n",
        "from IPython.display import HTML\n",
        "\n",
        "import numpy as np\n"
      ],
      "execution_count": 0,
      "outputs": []
    },
    {
      "cell_type": "code",
      "metadata": {
        "id": "zzZg7fherOn5",
        "colab_type": "code",
        "colab": {}
      },
      "source": [
        "class SN:\n",
        "\n",
        "  def __init__(self, w_init, b_init, algo):\n",
        "    self.w = w_init\n",
        "    self.b = b_init\n",
        "    self.w_h = []\n",
        "    self.b_h = []\n",
        "    self.e_h = []\n",
        "    self.algo = algo\n",
        "\n",
        "  def sigmoid(self, x, w=None, b=None):\n",
        "    if w is None:\n",
        "      w = self.w\n",
        "    if b is None:\n",
        "      b = self.b\n",
        "    return 1. / (1. + np.exp(-(w*x + b)))  \n",
        "\n",
        "  def error(self, X, Y, w=None, b=None):\n",
        "    if w is None:\n",
        "      w = self.w\n",
        "    if b is None:\n",
        "      b = self.b\n",
        "    err = 0  \n",
        "    for x, y in zip(X, Y):\n",
        "      err += 0.5 * (self.sigmoid(x, w, b) - y) ** 2\n",
        "    return err  \n",
        "\n",
        "  def grad_w(self, x, y, w=None, b=None):\n",
        "    if w is None:\n",
        "      w = self.w\n",
        "    if b is None:\n",
        "      b = self.b\n",
        "    y_pred = self.sigmoid(x, w, b)\n",
        "    return (y_pred - y) * y_pred * (1 - y_pred) * x\n",
        "\n",
        "  def grad_b(self, x, y, w=None, b=None):\n",
        "    if w is None:\n",
        "      w = self.w\n",
        "    if b is None:\n",
        "      b = self.b\n",
        "    y_pred = self.sigmoid(x, w, b)\n",
        "    return (y_pred - y) * y_pred * (1 - y_pred) \n",
        "\n",
        "  def fit(self, X, Y,\n",
        "          epochs=100, eta=0.01, gamma=0.9, mini_batch_size=100, eps=le-8)   \n",
        "\n",
        "         \n",
        "\n",
        "\n"
      ],
      "execution_count": 0,
      "outputs": []
    }
  ]
}